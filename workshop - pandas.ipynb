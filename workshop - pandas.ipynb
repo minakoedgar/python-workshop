{
 "cells": [
  {
   "cell_type": "code",
   "execution_count": 1,
   "metadata": {
    "collapsed": false
   },
   "outputs": [
    {
     "name": "stdout",
     "output_type": "stream",
     "text": [
      "   CPS_ID   SAMPLE_ID  TRIGGER  PAYMENTNO  AMOUNT TITLE         FIRST  \\\n",
      "0     NaN  3000000003      NaN        NaN      20   NaN        Pepper   \n",
      "1     NaN  3000000002      NaN        NaN      20   NaN         Peach   \n",
      "2     NaN  3000000001      NaN        NaN      20   NaN  Passionfruit   \n",
      "3     NaN  3000000000      NaN        NaN      25   Dr.         Kenya   \n",
      "4     NaN  2300000003      NaN        NaN      20   NaN        Loquat   \n",
      "\n",
      "               LAST SUFFIX               ADDR1  ADDR2          CITY STATE  \\\n",
      "0            Maroon    NaN   4008 Brighton Ave    NaN   Los Angeles    CA   \n",
      "1            Maroon    NaN  17360 Fontana Path    NaN    Farmington    MN   \n",
      "2  Mediumaquamarine    NaN  45 Citrus Ridge Dr    NaN     Davenport    FL   \n",
      "3           Cormier    NaN    783 Betsy Island    NaN   Ziemannvill    AK   \n",
      "4             Olive    NaN      4325 Dobson St    NaN  Philadelphia    PA   \n",
      "\n",
      "     ZIP  COUNTRY   IWER  \n",
      "0  90062      NaN    NaN  \n",
      "1  55024      NaN    NaN  \n",
      "2  33837      NaN    NaN  \n",
      "3  10085      NaN  30000  \n",
      "4  19129      NaN    NaN  \n"
     ]
    }
   ],
   "source": [
    "incsv = r\"L:\\groups\\TSG\\dataops\\Social_Relations\\Test\\payment\\archive\\paymentcheck_07012014.csv\"\n",
    "import pandas as pd\n",
    "df = pd.read_csv(incsv, index_col=False, header=0)\n",
    "print df.head()"
   ]
  },
  {
   "cell_type": "code",
   "execution_count": 2,
   "metadata": {
    "collapsed": false
   },
   "outputs": [
    {
     "data": {
      "text/plain": [
       "STATE\n",
       "AK     50\n",
       "AL    115\n",
       "AR     20\n",
       "AS     50\n",
       "AZ     45\n",
       "CA    285\n",
       "CO     95\n",
       "CT     60\n",
       "FL    110\n",
       "GA     45\n",
       "GU     25\n",
       "IL    100\n",
       "IN     20\n",
       "MA     85\n",
       "MD     65\n",
       "MI    265\n",
       "MN     65\n",
       "MO     25\n",
       "MP     25\n",
       "MS     45\n",
       "NC     25\n",
       "ND    105\n",
       "NE     25\n",
       "NM     25\n",
       "NY     90\n",
       "OH     40\n",
       "OR     25\n",
       "PA     60\n",
       "PW     25\n",
       "RI     25\n",
       "SD     75\n",
       "TX     85\n",
       "UT     25\n",
       "VA     20\n",
       "VI     25\n",
       "VT     25\n",
       "WA    130\n",
       "WI     20\n",
       "WY     25\n",
       "dtype: int64"
      ]
     },
     "execution_count": 2,
     "metadata": {},
     "output_type": "execute_result"
    }
   ],
   "source": [
    "df.groupby('STATE').apply(lambda x: x['AMOUNT'].sum())"
   ]
  }
 ],
 "metadata": {
  "kernelspec": {
   "display_name": "Python 2",
   "language": "python",
   "name": "python2"
  },
  "language_info": {
   "codemirror_mode": {
    "name": "ipython",
    "version": 2
   },
   "file_extension": ".py",
   "mimetype": "text/x-python",
   "name": "python",
   "nbconvert_exporter": "python",
   "pygments_lexer": "ipython2",
   "version": "2.7.10"
  }
 },
 "nbformat": 4,
 "nbformat_minor": 0
}
