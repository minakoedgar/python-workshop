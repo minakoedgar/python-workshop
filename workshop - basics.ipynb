{
 "cells": [
  {
   "cell_type": "markdown",
   "metadata": {},
   "source": [
    "# Python Basics\n",
    "1. **String**\n",
    "2. **Numeric**\n",
    "3. **Overwirte object**\n",
    "4. **Convertion**\n",
    "    - String to Numeric\n",
    "    - Numeric to String\n",
    "5. **List**\n",
    "    - Merge\n",
    "    - Remove\n",
    "    - Append\n",
    "6. **Dictionary**\n",
    "    - Dictionary of Dictionary"
   ]
  },
  {
   "cell_type": "markdown",
   "metadata": {},
   "source": [
    "### String\n",
    "Python is very powerful for managing strings, although there are a few tips to remember.\n",
    "* Use Raw string in a path by adding r in the path string. In this way, the backslash will be read as backslash.\n",
    "    - r'C:\\User\\temp'"
   ]
  },
  {
   "cell_type": "code",
   "execution_count": 1,
   "metadata": {
    "collapsed": false
   },
   "outputs": [
    {
     "name": "stdout",
     "output_type": "stream",
     "text": [
      "abcdef\n"
     ]
    }
   ],
   "source": [
    "mystring = \"abcdef\"\n",
    "print mystring"
   ]
  },
  {
   "cell_type": "markdown",
   "metadata": {},
   "source": [
    "### Numeric\n",
    "For calculation, make sure your numeric valriable is float type, not integer type."
   ]
  },
  {
   "cell_type": "code",
   "execution_count": 2,
   "metadata": {
    "collapsed": false
   },
   "outputs": [
    {
     "name": "stdout",
     "output_type": "stream",
     "text": [
      "123456789\n"
     ]
    }
   ],
   "source": [
    "mynumber = 123456789\n",
    "print mynumber"
   ]
  },
  {
   "cell_type": "code",
   "execution_count": 3,
   "metadata": {
    "collapsed": false
   },
   "outputs": [
    {
     "name": "stdout",
     "output_type": "stream",
     "text": [
      "123456789.0\n"
     ]
    }
   ],
   "source": [
    "mynumber_double = float(mynumber)\n",
    "print mynumber_double"
   ]
  },
  {
   "cell_type": "markdown",
   "metadata": {},
   "source": [
    "### Overwrite object\n",
    "Not like Visual Basic, you can overwrite your object in the different type. It won't throw an error for you, so please keep track your objects."
   ]
  },
  {
   "cell_type": "code",
   "execution_count": 4,
   "metadata": {
    "collapsed": false
   },
   "outputs": [
    {
     "name": "stdout",
     "output_type": "stream",
     "text": [
      "abcdef\n",
      "99999\n"
     ]
    }
   ],
   "source": [
    "print mystring\n",
    "mystring = 99999\n",
    "print mystring"
   ]
  },
  {
   "cell_type": "markdown",
   "metadata": {},
   "source": [
    "### Convert string to numeric"
   ]
  },
  {
   "cell_type": "code",
   "execution_count": 5,
   "metadata": {
    "collapsed": false
   },
   "outputs": [
    {
     "name": "stdout",
     "output_type": "stream",
     "text": [
      "99999.0\n"
     ]
    }
   ],
   "source": [
    "mystring2numeric = float(mystring)\n",
    "print mystring2numeric"
   ]
  },
  {
   "cell_type": "markdown",
   "metadata": {},
   "source": [
    "### Convert numeric to string"
   ]
  },
  {
   "cell_type": "code",
   "execution_count": 6,
   "metadata": {
    "collapsed": false
   },
   "outputs": [
    {
     "name": "stdout",
     "output_type": "stream",
     "text": [
      "12345\n"
     ]
    }
   ],
   "source": [
    "mynumber2string = str(mynumber)\n",
    "print mynumber2string[0:5]"
   ]
  },
  {
   "cell_type": "markdown",
   "metadata": {},
   "source": [
    "### List\n",
    "Any type of object can be stored in the same list. You can merge two or more list by usig +, although you cannot simply substact imtes. You can use .remove() function to remove items and .append() function to add items. "
   ]
  },
  {
   "cell_type": "code",
   "execution_count": 7,
   "metadata": {
    "collapsed": false
   },
   "outputs": [
    {
     "name": "stdout",
     "output_type": "stream",
     "text": [
      "['sdt', 453]\n",
      "2\n"
     ]
    }
   ],
   "source": [
    "mylist = []\n",
    "mylist.append('sdt')\n",
    "mylist.append(453)\n",
    "print mylist\n",
    "print len(mylist)"
   ]
  },
  {
   "cell_type": "code",
   "execution_count": 8,
   "metadata": {
    "collapsed": false
   },
   "outputs": [
    {
     "name": "stdout",
     "output_type": "stream",
     "text": [
      "['I', 'am', 'learning', 'python']\n"
     ]
    }
   ],
   "source": [
    "# merge list\n",
    "a = ['I','am']\n",
    "b = ['learning','python']\n",
    "c = a + b\n",
    "print c"
   ]
  },
  {
   "cell_type": "code",
   "execution_count": 9,
   "metadata": {
    "collapsed": false
   },
   "outputs": [
    {
     "name": "stdout",
     "output_type": "stream",
     "text": [
      "['I', 'am', 'learning']\n",
      "['I', 'am', 'learning', 'py']\n"
     ]
    }
   ],
   "source": [
    "# remove item from list\n",
    "c.remove('python')\n",
    "print c\n",
    "c.append('py')\n",
    "print c"
   ]
  },
  {
   "cell_type": "markdown",
   "metadata": {},
   "source": [
    "### Dictionary\n",
    "Any type of objects can stored in the dictionary. You can have list or dictionary within the dictionary. "
   ]
  },
  {
   "cell_type": "code",
   "execution_count": 10,
   "metadata": {
    "collapsed": false
   },
   "outputs": [
    {
     "name": "stdout",
     "output_type": "stream",
     "text": [
      "{'test': 4, '324': 'hello'}\n",
      "['test', '324']\n"
     ]
    }
   ],
   "source": [
    "mydict = {}\n",
    "mydict = {'test':4, '324':'hello'}\n",
    "print mydict\n",
    "print mydict.keys()"
   ]
  },
  {
   "cell_type": "code",
   "execution_count": 11,
   "metadata": {
    "collapsed": false
   },
   "outputs": [
    {
     "name": "stdout",
     "output_type": "stream",
     "text": [
      "{'Name': 'Eric White', 'family': {'father': 'Henry White', 'mother': 'Mary White'}, 'SID': '12345'}\n",
      "['Name', 'family', 'SID']\n",
      "{'father': 'Henry White', 'mother': 'Mary White'}\n",
      "Mary White\n"
     ]
    }
   ],
   "source": [
    "moredict = {}\n",
    "moredict = {'SID':'12345','Name':'Eric White', 'family':{'mother':'Mary White','father':'Henry White'}}\n",
    "print moredict\n",
    "print moredict.keys()\n",
    "print moredict['family']\n",
    "print moredict['family']['mother']"
   ]
  }
 ],
 "metadata": {
  "kernelspec": {
   "display_name": "Python 2",
   "language": "python",
   "name": "python2"
  },
  "language_info": {
   "codemirror_mode": {
    "name": "ipython",
    "version": 2
   },
   "file_extension": ".py",
   "mimetype": "text/x-python",
   "name": "python",
   "nbconvert_exporter": "python",
   "pygments_lexer": "ipython2",
   "version": "2.7.10"
  }
 },
 "nbformat": 4,
 "nbformat_minor": 0
}
