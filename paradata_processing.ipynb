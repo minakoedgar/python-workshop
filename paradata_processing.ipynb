{
 "cells": [
  {
   "cell_type": "markdown",
   "metadata": {},
   "source": [
    "Read only client paradata section from input text file.\n",
    "Parse the client paradata by specific strings per pages/questions."
   ]
  },
  {
   "cell_type": "code",
   "execution_count": 1,
   "metadata": {
    "collapsed": false
   },
   "outputs": [
    {
     "data": {
      "text/plain": [
       "'\"SID\"^\"csp\"\\r\\n'"
      ]
     },
     "execution_count": 1,
     "metadata": {},
     "output_type": "execute_result"
    }
   ],
   "source": [
    "import csv\n",
    "import datetime\n",
    "today = datetime.datetime.now().date().strftime('%m%d%Y')\n",
    "infile = open(r\"L:\\groups\\TSG\\dataops\\Minako\\Others\\Emily\\paradata\\LS_CSP_test.txt\", 'rb')\n",
    "CSVoutfile = \"L:\\groups\\TSG\\dataops\\Minako\\Others\\Emily\\paradata\\outpara_\" + str(today) + \".csv\"\n",
    "outpara_sum = r\"L:\\groups\\TSG\\dataops\\Minako\\Others\\Emily\\paradata\\outpara_summary\" + str(today) + \".csv\"\n",
    "infile.next() # skip header"
   ]
  },
  {
   "cell_type": "markdown",
   "metadata": {},
   "source": [
    "Read text file per line becuase This file has inconsistent delimited patterns."
   ]
  },
  {
   "cell_type": "code",
   "execution_count": 2,
   "metadata": {
    "collapsed": true
   },
   "outputs": [],
   "source": [
    "# Function: read text file into dictionary\n",
    "def csvtodict_para (csvFile):\n",
    "    content = {}\n",
    "    for line in infile:\n",
    "        # It is ^ delimited, but ^ is used within client paradata as delimiter. Separate SID and client paradata.\n",
    "        temp = line.split('^') \n",
    "        sid = temp[0] \n",
    "        paradata = line[len(sid)+1:]  # read lines except sid, which locates the beginning of line.\n",
    "        content[sid[1:-1]] = {'sid':sid[1:-1],'data':str(paradata)[1:-1]} # remove quotechar by [1:-1]\n",
    "    return content "
   ]
  },
  {
   "cell_type": "code",
   "execution_count": 3,
   "metadata": {
    "collapsed": true
   },
   "outputs": [],
   "source": [
    "# String search function. It will find string between first and last.\n",
    "def find_between( s, first, last ):\n",
    "    try:\n",
    "        start = s.index( first ) + len( first )\n",
    "        end = s.index( last, start )\n",
    "        return s[start:end]\n",
    "    except ValueError:\n",
    "        return \"\""
   ]
  },
  {
   "cell_type": "code",
   "execution_count": 4,
   "metadata": {
    "collapsed": true
   },
   "outputs": [],
   "source": [
    "# Fnction: export from dictionary to csv\n",
    "def export_Dict2CSV (d_FPR, header, CSVoutfile):\n",
    "    f = open(CSVoutfile, 'wb')\n",
    "    cw = csv.writer(f, delimiter=',', quotechar='\"')\n",
    "    # Write headers #\n",
    "    cw.writerow(header)\n",
    "    # Write data to output file #\n",
    "    for key in d_FPR.keys() :\n",
    "        outdata = []\n",
    "        for subkey in header:\n",
    "            outdata.append(d_FPR[key][subkey])\n",
    "        cw.writerow(outdata)"
   ]
  },
  {
   "cell_type": "code",
   "execution_count": 5,
   "metadata": {
    "collapsed": false
   },
   "outputs": [
    {
     "name": "stdout",
     "output_type": "stream",
     "text": [
      "7 rows in the input file\n"
     ]
    }
   ],
   "source": [
    "d = csvtodict_para(infile) # calling csvtodict_para function\n",
    "print str(len(d)) + \" rows in the input file\"\n"
   ]
  },
  {
   "cell_type": "markdown",
   "metadata": {},
   "source": [
    "Setting up the default values."
   ]
  },
  {
   "cell_type": "code",
   "execution_count": 6,
   "metadata": {
    "collapsed": true
   },
   "outputs": [],
   "source": [
    "minkey = None  # storage for minimum length of paradata among all data. This will be used to catch any questions missing.\n",
    "maxkey = 0     # stodage for maximum length of paradata amound all data. This will be used to catch any questions missing.\n",
    "out={}         # new dictionary to store paradata\n",
    "count = 1      # count of paradata entries\n",
    "checkpara = [] # storage to hold cases to check"
   ]
  },
  {
   "cell_type": "markdown",
   "metadata": {},
   "source": [
    "Start loopin each sid in dictionary."
   ]
  },
  {
   "cell_type": "code",
   "execution_count": 7,
   "metadata": {
    "collapsed": false
   },
   "outputs": [],
   "source": [
    "for key in d:\n",
    "    text = d[key]['data'].split('^') # paradata is ^ delmited.\n",
    "    if len(text) > maxkey: # updating maxkey\n",
    "        maxkey = len(text)\n",
    "    if minkey == None:     # updating minkey\n",
    "        minkey = len(text)\n",
    "    else:\n",
    "        if minkey > len(text):\n",
    "            minkey = len(text)\n",
    "    # loop each items in paradata.\n",
    "    for i in range(0,len(text)):\n",
    "        # Split text with comma if it is not empty. \n",
    "        # The text for the first page, not item, has three items separated by comma.\n",
    "        if text[i] != '':\n",
    "            moretext = text[i].split(',')\n",
    "            ##### page #####\n",
    "            # time and answer is not available for page\n",
    "            if 'onload' in text[i]: # page always has 'onload'.\n",
    "                if len(moretext) == 3 : \n",
    "                    # position is set to start if onload- is in text\n",
    "                    position = 'start' \n",
    "                    # if there is onload- in the text, question is between onload- and first =\n",
    "                    question = find_between(moretext[0], 'onload-', '=') \n",
    "                    # timestamp is located at the 3rd item, after '='\n",
    "                    timestamp = moretext[2].split('=')[-1]\n",
    "                    out[count]= {'time':None, 'position':position, 'answer':None,'question':question, \n",
    "                                 'order':i, 'text':text[i], 'sid':key, 'timestamp':timestamp, 'type':'page'}\n",
    "                    count= count + 1\n",
    "                else:\n",
    "                    # position is set to start if onload- is in text\n",
    "                    position = 'start' \n",
    "                    # if there is onload- in the text, question is between onload- and first =\n",
    "                    question = find_between(moretext[0], 'onload-', '=') \n",
    "                    if len(moretext) < 3:\n",
    "                        timestamp = None\n",
    "                    else:\n",
    "                        timestamp = moretext[-1].split('=')[-1]\n",
    "                    out[count]= {'time':None, 'position':position, 'answer':None,'question':question, \n",
    "                                 'order':i, 'text':text[i], 'sid':key, 'timestamp':timestamp, 'type':'page'}\n",
    "                    count= count + 1                \n",
    "            ##### item #####\n",
    "            # timestamp is not available for item\n",
    "            else:\n",
    "                if len(moretext) == 1: \n",
    "                    # get the time, which is between t= and first :\n",
    "                    time = find_between(text[i], 't=', ':') \n",
    "                    try :\n",
    "                        temp = int(time)\n",
    "                    except:\n",
    "                        checkpara.append([key,moretext, len(text), text[i]])\n",
    "                    # position is set to Noone for item\n",
    "                    position = None\n",
    "                    # if onload- is not in text, question is between first : and first =\n",
    "                    question = find_between(text[i], ':', '=') \n",
    "                    # if onload- is not in text, answer is between the last = to the end\n",
    "                    answer = text[i].split('=')[-1] \n",
    "                    out[count]= {'time':time, 'position':position, 'answer':answer,'question':question, \n",
    "                                 'order':i, 'text':text[i], 'sid':key, 'timestamp':None, 'type':'item'}\n",
    "                    count= count + 1\n",
    "                ##### item with (,) #####\n",
    "                else:\n",
    "                    for p in range(0,len(moretext)):\n",
    "                        if 't=' == moretext[p][0:2]:\n",
    "                            # get the time, which is between t= and first :\n",
    "                            time = find_between(moretext[p], 't=', ':') \n",
    "                            try :\n",
    "                                temp = int(time)\n",
    "                            except:\n",
    "                                checkpara.append([key,moretext[p], len(text), text[i]])\n",
    "                            # position is set to Noone for item\n",
    "                            position = None\n",
    "                            # We need another logic to get the question, but for now, I just assume the question is :after\n",
    "                            question = moretext[p].split(':')[-1]\n",
    "                            # We need another logic to get the answer, for now, I just set it as None.\n",
    "                            answer = None\n",
    "                            out[count]= {'time':time, 'position':position, 'answer':answer,'question':question, \n",
    "                                         'order':i, 'text':text[i], 'sid':key, 'timestamp':None, 'type':'item'}\n",
    "                            count= count + 1"
   ]
  },
  {
   "cell_type": "code",
   "execution_count": 8,
   "metadata": {
    "collapsed": false
   },
   "outputs": [
    {
     "name": "stdout",
     "output_type": "stream",
     "text": [
      "keystroke - minimum length:1 maximum length:7763\n",
      "1 SIDs have non-page and non-item paradata\n",
      "['PT00002', ['ANS\\r'], 1, 'ANS\\r']\n",
      "[['PT00002', ['ANS\\r'], 1, 'ANS\\r']]\n"
     ]
    }
   ],
   "source": [
    "print \"keystroke - minimum length:\" + str(minkey) + \" maximum length:\" + str(maxkey)\n",
    "print str(len(checkpara)) + \" SIDs have non-page and non-item paradata\"\n",
    "if len(checkpara) > 0:\n",
    "    print checkpara[0] # this will print out the example of non-page non-item paradata SID.\n",
    "print checkpara"
   ]
  },
  {
   "cell_type": "code",
   "execution_count": 9,
   "metadata": {
    "collapsed": false
   },
   "outputs": [],
   "source": [
    "outsummary={}\n",
    "for count in out:\n",
    "    # combination is sid and question. This will be the uniqueID for outsummary\n",
    "    sidQ = out[count]['sid'] + \"-\" + out[count]['question'] \n",
    "    if sidQ not in outsummary:\n",
    "        if out[count]['time'] not in (None, \"\"): # time doesn't exist all keystroke\n",
    "            outsummary[sidQ] = {'sidQ':sidQ, 'sid':out[count]['sid'], 'question':out[count]['question'], \n",
    "                                'starttime':None, 'endtime':None,'maxorder':0,'count':1, 'answer':None, \n",
    "                                'sumtime':int(out[count]['time'])}\n",
    "        else:\n",
    "            outsummary[sidQ] = {'sidQ':sidQ, 'sid':out[count]['sid'], 'question':out[count]['question'], \n",
    "                                'starttime':None, 'endtime':None,'maxorder':0,'count':1, 'answer':None, 'sumtime':0}            \n",
    "    else:\n",
    "        outsummary[sidQ]['count'] = outsummary[sidQ]['count'] + 1 # count of question per sid\n",
    "        if out[count]['time'] not in (None, \"\"): # time for page is None. Those were excluded.\n",
    "            # sum time per question per sid\n",
    "            outsummary[sidQ]['sumtime'] = outsummary[sidQ]['sumtime'] + int(out[count]['time']) \n",
    "    if out[count]['position'] == 'start': # position=start means keystroke includes onload-\n",
    "        outsummary[sidQ]['starttime'] = out[count]['timestamp'] # if postion=start, starttime will be its time\n",
    "        # maxorder will be updated to start order, if maxorder = 0\n",
    "        if outsummary[sidQ]['maxorder'] == 0:\n",
    "            outsummary[sidQ]['maxorder'] = out[count]['order'] \n",
    "    else:\n",
    "        # if the keystroke order is bigger than the current maxorder\n",
    "        if outsummary[sidQ]['maxorder'] < out[count]['order']: \n",
    "            outsummary[sidQ]['maxorder'] = out[count]['order'] # update maxorder\n",
    "            outsummary[sidQ]['endtime'] = out[count]['time'] # update endtime\n",
    "            outsummary[sidQ]['answer'] = out[count]['answer'] # update answer"
   ]
  },
  {
   "cell_type": "markdown",
   "metadata": {},
   "source": [
    "Export client paradata and summary into csv"
   ]
  },
  {
   "cell_type": "code",
   "execution_count": 10,
   "metadata": {
    "collapsed": false
   },
   "outputs": [],
   "source": [
    "header = ['sid','type', 'order',  'question', 'time', 'answer', 'timestamp', 'position', 'text']\n",
    "export_Dict2CSV (out, header, CSVoutfile)\n",
    "header2 = ['sid',  'question', 'sidQ','maxorder','count', 'answer', 'sumtime']\n",
    "export_Dict2CSV (outsummary, header2, outpara_sum)"
   ]
  }
 ],
 "metadata": {
  "kernelspec": {
   "display_name": "Python 2",
   "language": "python",
   "name": "python2"
  },
  "language_info": {
   "codemirror_mode": {
    "name": "ipython",
    "version": 2
   },
   "file_extension": ".py",
   "mimetype": "text/x-python",
   "name": "python",
   "nbconvert_exporter": "python",
   "pygments_lexer": "ipython2",
   "version": "2.7.10"
  }
 },
 "nbformat": 4,
 "nbformat_minor": 0
}
