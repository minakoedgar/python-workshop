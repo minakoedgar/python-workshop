{
 "cells": [
  {
   "cell_type": "code",
   "execution_count": 1,
   "metadata": {
    "collapsed": true
   },
   "outputs": [],
   "source": [
    "a=\"300 Main Street, Ann Arbor, MI, 48105\""
   ]
  },
  {
   "cell_type": "code",
   "execution_count": 2,
   "metadata": {
    "collapsed": false
   },
   "outputs": [
    {
     "name": "stdout",
     "output_type": "stream",
     "text": [
      "['300', 'Main', 'Street,', 'Ann', 'Arbor,', 'MI,', '48105']\n"
     ]
    }
   ],
   "source": [
    "print a.split()"
   ]
  },
  {
   "cell_type": "code",
   "execution_count": 3,
   "metadata": {
    "collapsed": false
   },
   "outputs": [
    {
     "name": "stdout",
     "output_type": "stream",
     "text": [
      "['300 Main Street', ' Ann Arbor', ' MI', ' 48105']\n"
     ]
    }
   ],
   "source": [
    "print a.split(',')"
   ]
  },
  {
   "cell_type": "code",
   "execution_count": 4,
   "metadata": {
    "collapsed": false
   },
   "outputs": [
    {
     "name": "stdout",
     "output_type": "stream",
     "text": [
      " Ann Arbor\n"
     ]
    }
   ],
   "source": [
    "print a.split(',')[1]"
   ]
  },
  {
   "cell_type": "code",
   "execution_count": 5,
   "metadata": {
    "collapsed": false
   },
   "outputs": [
    {
     "name": "stdout",
     "output_type": "stream",
     "text": [
      "Ann Arbor\n"
     ]
    }
   ],
   "source": [
    "print a.split(',')[1].strip()"
   ]
  },
  {
   "cell_type": "code",
   "execution_count": 6,
   "metadata": {
    "collapsed": false
   },
   "outputs": [
    {
     "name": "stdout",
     "output_type": "stream",
     "text": [
      "['300 Main Street', 'Ann Arbor', 'MI', '48105']\n"
     ]
    }
   ],
   "source": [
    "print [x.strip() for x in a.split(',')]"
   ]
  },
  {
   "cell_type": "code",
   "execution_count": 7,
   "metadata": {
    "collapsed": false
   },
   "outputs": [
    {
     "name": "stdout",
     "output_type": "stream",
     "text": [
      "MI\n",
      "48105\n"
     ]
    }
   ],
   "source": [
    "address =  [x.strip() for x in a.split(',')]\n",
    "print address[2]\n",
    "print address[-1]"
   ]
  },
  {
   "cell_type": "code",
   "execution_count": 8,
   "metadata": {
    "collapsed": false
   },
   "outputs": [
    {
     "name": "stdout",
     "output_type": "stream",
     "text": [
      "1\n"
     ]
    }
   ],
   "source": [
    "print address.index('Ann Arbor')"
   ]
  },
  {
   "cell_type": "code",
   "execution_count": 9,
   "metadata": {
    "collapsed": false
   },
   "outputs": [
    {
     "name": "stdout",
     "output_type": "stream",
     "text": [
      "300 Main Street, Ann Arbor, OH, 48105\n"
     ]
    }
   ],
   "source": [
    "print a.replace('MI','OH')"
   ]
  },
  {
   "cell_type": "code",
   "execution_count": 10,
   "metadata": {
    "collapsed": false
   },
   "outputs": [
    {
     "name": "stdout",
     "output_type": "stream",
     "text": [
      "300 Main Street^ Ann Arbor^ MI^ 48105\n"
     ]
    }
   ],
   "source": [
    "print a.replace(',','^')"
   ]
  },
  {
   "cell_type": "code",
   "execution_count": 11,
   "metadata": {
    "collapsed": true
   },
   "outputs": [],
   "source": [
    "# String search function. It will find string between first and last.\n",
    "def find_between( s, first, last ):\n",
    "    try:\n",
    "        start = s.index( first ) + len( first )\n",
    "        end = s.index( last, start )\n",
    "        return s[start:end]\n",
    "    except ValueError:\n",
    "        return \"\""
   ]
  },
  {
   "cell_type": "code",
   "execution_count": 12,
   "metadata": {
    "collapsed": false
   },
   "outputs": [
    {
     "name": "stdout",
     "output_type": "stream",
     "text": [
      "00 Main Street, Ann Arbor, MI, \n"
     ]
    }
   ],
   "source": [
    "print find_between(a,'3','48105')"
   ]
  },
  {
   "cell_type": "code",
   "execution_count": 13,
   "metadata": {
    "collapsed": false
   },
   "outputs": [
    {
     "name": "stdout",
     "output_type": "stream",
     "text": [
      "t\n"
     ]
    }
   ],
   "source": [
    "print a[10]"
   ]
  },
  {
   "cell_type": "code",
   "execution_count": 14,
   "metadata": {
    "collapsed": false
   },
   "outputs": [
    {
     "name": "stdout",
     "output_type": "stream",
     "text": [
      "treet\n"
     ]
    }
   ],
   "source": [
    "print a[10:15]"
   ]
  },
  {
   "cell_type": "code",
   "execution_count": 15,
   "metadata": {
    "collapsed": false
   },
   "outputs": [
    {
     "name": "stdout",
     "output_type": "stream",
     "text": [
      "treet, Ann Arbor, MI, 48\n"
     ]
    }
   ],
   "source": [
    "print a[10:-3]"
   ]
  },
  {
   "cell_type": "code",
   "execution_count": 16,
   "metadata": {
    "collapsed": false
   },
   "outputs": [
    {
     "name": "stdout",
     "output_type": "stream",
     "text": [
      "113\n"
     ]
    }
   ],
   "source": [
    "import csv\n",
    "incsv = r\"L:\\groups\\TSG\\dataops\\Social_Relations\\Test\\payment\\archive\\paymentcheck_07012014.csv\"\n",
    "# Read CSV\n",
    "import csv\n",
    "def csvtodict (csvFile, delim):\n",
    "    headers = None\n",
    "    content = {}\n",
    "    reader=csv.reader(open(csvFile), delimiter=delim)\n",
    "    i = 1\n",
    "    for row in reader:\n",
    "        if reader.line_num == 1:\n",
    "            headers = row[0:]\n",
    "        else:\n",
    "            content[i] = dict(zip(headers, row[0:]))\n",
    "        i = i + 1\n",
    "    return content\n",
    "\n",
    "d_csv = csvtodict(incsv, ',')\n",
    "print len(d_csv)\n"
   ]
  },
  {
   "cell_type": "code",
   "execution_count": 17,
   "metadata": {
    "collapsed": false
   },
   "outputs": [
    {
     "name": "stdout",
     "output_type": "stream",
     "text": [
      "[2, 3, 4, 5, 6, 7, 8, 9, 10, 11, 12, 13, 14, 15, 16, 17, 18, 19, 20, 21, 22, 23, 24, 25, 26, 27, 28, 29, 30, 31, 32, 33, 34, 35, 36, 37, 38, 39, 40, 41, 42, 43, 44, 45, 46, 47, 48, 49, 50, 51, 52, 53, 54, 55, 56, 57, 58, 59, 60, 61, 62, 63, 64, 65, 66, 67, 68, 69, 70, 71, 72, 73, 74, 75, 76, 77, 78, 79, 80, 81, 82, 83, 84, 85, 86, 87, 88, 89, 90, 91, 92, 93, 94, 95, 96, 97, 98, 99, 100, 101, 102, 103, 104, 105, 106, 107, 108, 109, 110, 111, 112, 113, 114]\n"
     ]
    }
   ],
   "source": [
    "print d_csv.keys()"
   ]
  },
  {
   "cell_type": "code",
   "execution_count": 18,
   "metadata": {
    "collapsed": false
   },
   "outputs": [
    {
     "name": "stdout",
     "output_type": "stream",
     "text": [
      "{'CITY': 'Wyoming', 'LAST': 'Steelblue', 'CPS_ID': '', 'PAYMENTNO': '', 'TITLE': '', 'COUNTRY': '', 'ADDR1': '4174 Michael Ave SW', 'ZIP': '49509', 'STATE': 'MI', 'AMOUNT': '20', 'TRIGGER': '', 'SUFFIX': '', 'IWER': '', 'SAMPLE_ID': '1300000002', 'ADDR2': '', 'FIRST': 'Cantaloupe'}\n"
     ]
    }
   ],
   "source": [
    "print d_csv[100]"
   ]
  },
  {
   "cell_type": "code",
   "execution_count": 19,
   "metadata": {
    "collapsed": false
   },
   "outputs": [
    {
     "name": "stdout",
     "output_type": "stream",
     "text": [
      "['CITY', 'LAST', 'CPS_ID', 'PAYMENTNO', 'TITLE', 'COUNTRY', 'ADDR1', 'ZIP', 'STATE', 'AMOUNT', 'TRIGGER', 'SUFFIX', 'IWER', 'SAMPLE_ID', 'ADDR2', 'FIRST']\n"
     ]
    }
   ],
   "source": [
    "print d_csv[100].keys()"
   ]
  },
  {
   "cell_type": "code",
   "execution_count": 20,
   "metadata": {
    "collapsed": false
   },
   "outputs": [
    {
     "name": "stdout",
     "output_type": "stream",
     "text": [
      "4174 Michael Ave SW\n"
     ]
    }
   ],
   "source": [
    "print d_csv[100]['ADDR1']"
   ]
  }
 ],
 "metadata": {
  "kernelspec": {
   "display_name": "Python 2",
   "language": "python",
   "name": "python2"
  },
  "language_info": {
   "codemirror_mode": {
    "name": "ipython",
    "version": 2
   },
   "file_extension": ".py",
   "mimetype": "text/x-python",
   "name": "python",
   "nbconvert_exporter": "python",
   "pygments_lexer": "ipython2",
   "version": "2.7.10"
  }
 },
 "nbformat": 4,
 "nbformat_minor": 0
}
