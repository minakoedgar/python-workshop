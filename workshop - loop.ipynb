{
 "cells": [
  {
   "cell_type": "markdown",
   "metadata": {},
   "source": [
    "For loop"
   ]
  },
  {
   "cell_type": "code",
   "execution_count": 1,
   "metadata": {
    "collapsed": false
   },
   "outputs": [
    {
     "name": "stdout",
     "output_type": "stream",
     "text": [
      "113\n"
     ]
    }
   ],
   "source": [
    "incsv = r\"L:\\groups\\TSG\\dataops\\Social_Relations\\Test\\payment\\archive\\paymentcheck_07012014.csv\"\n",
    "# Read CSV\n",
    "import csv\n",
    "def csvtodict (csvFile, delim):\n",
    "    headers = None\n",
    "    content = {}\n",
    "    reader=csv.reader(open(csvFile), delimiter=delim)\n",
    "    i = 1\n",
    "    for row in reader:\n",
    "        if reader.line_num == 1:\n",
    "            headers = row[1:]\n",
    "        else:\n",
    "            content[i] = dict(zip(headers, row[1:]))\n",
    "            i = i + 1\n",
    "    return content\n",
    "\n",
    "d_csv = csvtodict(incsv, ',')\n",
    "print len(d_csv)"
   ]
  },
  {
   "cell_type": "code",
   "execution_count": 2,
   "metadata": {
    "collapsed": false
   },
   "outputs": [
    {
     "name": "stdout",
     "output_type": "stream",
     "text": [
      "CITY:East Haven\n",
      "LAST:Springgreen\n",
      "SUFFIX:\n",
      "PAYMENTNO:\n",
      "TITLE:\n",
      "COUNTRY:\n",
      "ADDR1:34 Richmond St\n",
      "ZIP:06512\n",
      "STATE:CT\n",
      "AMOUNT:20\n",
      "TRIGGER:\n",
      "ADDR2:\n",
      "IWER:\n",
      "SAMPLE_ID:1300000003\n",
      "FIRST:Currant\n"
     ]
    }
   ],
   "source": [
    "for i in range(1,114):\n",
    "    for key in d_csv[i].keys():\n",
    "        if i == 100:\n",
    "            print key + \":\" + d_csv[i][key]"
   ]
  },
  {
   "cell_type": "code",
   "execution_count": 3,
   "metadata": {
    "collapsed": false
   },
   "outputs": [
    {
     "name": "stdout",
     "output_type": "stream",
     "text": [
      "{'CITY': 'East Haven', 'LAST': 'Springgreen', 'SUFFIX': '', 'PAYMENTNO': '', 'TITLE': '', 'COUNTRY': '', 'ADDR1': '34 Richmond St', 'ZIP': '06512', 'STATE': 'CT', 'AMOUNT': '70.0', 'TRIGGER': '', 'ADDR2': '', 'IWER': '', 'SAMPLE_ID': '1300000003', 'FIRST': 'Currant'}\n"
     ]
    }
   ],
   "source": [
    "d_add = {'CT':50,'MI':100}\n",
    "for i in d_csv.keys():\n",
    "    if d_csv[i]['STATE'] in d_add:\n",
    "        d_csv[i]['AMOUNT'] = str(float(d_csv[i]['AMOUNT']) + d_add[d_csv[i]['STATE']])\n",
    "print d_csv[100]"
   ]
  }
 ],
 "metadata": {
  "kernelspec": {
   "display_name": "Python 2",
   "language": "python",
   "name": "python2"
  },
  "language_info": {
   "codemirror_mode": {
    "name": "ipython",
    "version": 2
   },
   "file_extension": ".py",
   "mimetype": "text/x-python",
   "name": "python",
   "nbconvert_exporter": "python",
   "pygments_lexer": "ipython2",
   "version": "2.7.10"
  }
 },
 "nbformat": 4,
 "nbformat_minor": 0
}
